{
 "cells": [
  {
   "cell_type": "markdown",
   "metadata": {},
   "source": [
    "# Scraping BGG - Part 1\n",
    "\n",
    "This was my scraping of the [browse page](https://boardgamegeek.com/browse/boardgame) of boardgamegeek (BGG).\n",
    "\n",
    "**Note:** \"browse_df\" is a dataframe that holds the info from the browse page (pg1) of BGG\n",
    "- Board game name\n",
    "- local hyperlink extension to that board game's main page\n",
    "- BGG rating; formula is roughly... (voter_count\\*avg_rating + (total_bgg_users-voter_count)\\*5.5)/total_bgg_users)\n",
    "- Average rating\n",
    "- Number of voters (voter_count)"
   ]
  },
  {
   "cell_type": "code",
   "execution_count": 1,
   "metadata": {},
   "outputs": [],
   "source": [
    "import re\n",
    "import pandas as pd\n",
    "from bs4 import BeautifulSoup\n",
    "import requests"
   ]
  },
  {
   "cell_type": "code",
   "execution_count": 2,
   "metadata": {},
   "outputs": [
    {
     "data": {
      "text/plain": [
       "200"
      ]
     },
     "execution_count": 2,
     "metadata": {},
     "output_type": "execute_result"
    }
   ],
   "source": [
    "link = 'https://boardgamegeek.com/browse/boardgame'\n",
    "response = requests.get(link)\n",
    "response.status_code"
   ]
  },
  {
   "cell_type": "code",
   "execution_count": 3,
   "metadata": {},
   "outputs": [
    {
     "data": {
      "text/plain": [
       "'\\n<!DOCTYPE html>\\n<html ng-app=\"GeekApp\" lang=\"en-US\" ng-cloak>\\n<head>\\n\\t<meta charset=\\'utf-8\\'>\\n\\t<meta'"
      ]
     },
     "execution_count": 3,
     "metadata": {},
     "output_type": "execute_result"
    }
   ],
   "source": [
    "html = response.text\n",
    "html[:100]"
   ]
  },
  {
   "cell_type": "code",
   "execution_count": 4,
   "metadata": {},
   "outputs": [],
   "source": [
    "soup = BeautifulSoup(html, 'html5lib')\n",
    "\n",
    "# a combination of soup to find all hyperlinks and regex to filter the ones that were important\n",
    "top100_times3 = soup.find_all('a', attrs={ 'href' : re.compile(\"^/boardgame/.\")})"
   ]
  },
  {
   "cell_type": "code",
   "execution_count": 5,
   "metadata": {},
   "outputs": [
    {
     "name": "stdout",
     "output_type": "stream",
     "text": [
      "Gloomhaven\n",
      "/boardgame/174430/gloomhaven\n"
     ]
    }
   ],
   "source": [
    "#there's 3 links per game, but we only care about every 2nd one (2/3) \n",
    "top100 = top100_times3[1::3]\n",
    "\n",
    "# use .text on these elements to get the text portion\n",
    "# use .get('') to get the value of the variable stored in ''\n",
    "print(top100[0].text)\n",
    "print(top100[0].get('href'))"
   ]
  },
  {
   "cell_type": "code",
   "execution_count": 6,
   "metadata": {},
   "outputs": [
    {
     "data": {
      "text/plain": [
       "'Gloomhaven'"
      ]
     },
     "execution_count": 6,
     "metadata": {},
     "output_type": "execute_result"
    }
   ],
   "source": [
    "# this will be the dictionary that gets turned into a df\n",
    "browse_stats_dict = {\n",
    "    'Name': [],\n",
    "    'Link': [],\n",
    "    'BGG_Rating': [],\n",
    "    'AVG_Rating': [],\n",
    "    'Voter_Count': []\n",
    "}\n",
    "\n",
    "# storing the name and link of each game\n",
    "for idx in range(100):\n",
    "    browse_stats_dict['Name'].append(top100[idx].text)\n",
    "    browse_stats_dict['Link'].append(top100[idx].get('href'))\n",
    "\n",
    "browse_stats_dict['Name'][0]"
   ]
  },
  {
   "cell_type": "code",
   "execution_count": 7,
   "metadata": {},
   "outputs": [
    {
     "data": {
      "text/plain": [
       "8.83"
      ]
     },
     "execution_count": 7,
     "metadata": {},
     "output_type": "execute_result"
    }
   ],
   "source": [
    "# get_num uses regex to extract the numerical part out of a string\n",
    "def get_num(string):\n",
    "    return float(re.search('\\S+', string).group(0))\n",
    "\n",
    "\n",
    "# All the JavaScript scripts for the stats on browse page -- 3 per game\n",
    "browse_stats = soup.find_all('td', attrs={'class': 'collection_bggrating' })\n",
    "\n",
    "# idx_list is a list of numbers 0-300 use to index through the 300 scripts\n",
    "idx_list = list(range(len(browse_stats)))\n",
    "\n",
    "# assigning each link to the coresponding dictionary list\n",
    "for idx in idx_list[::3]:\n",
    "    browse_stats_dict['BGG_Rating'].append(get_num( browse_stats[idx].text))\n",
    "    browse_stats_dict['AVG_Rating'].append(get_num( browse_stats[idx+1].text))\n",
    "    browse_stats_dict['Voter_Count'].append(get_num( browse_stats[idx+2].text))\n",
    "\n",
    "browse_stats_dict['AVG_Rating'][0]"
   ]
  },
  {
   "cell_type": "code",
   "execution_count": 8,
   "metadata": {
    "scrolled": false
   },
   "outputs": [
    {
     "name": "stdout",
     "output_type": "stream",
     "text": [
      "<class 'pandas.core.frame.DataFrame'>\n",
      "RangeIndex: 100 entries, 0 to 99\n",
      "Data columns (total 5 columns):\n",
      " #   Column       Non-Null Count  Dtype  \n",
      "---  ------       --------------  -----  \n",
      " 0   Name         100 non-null    object \n",
      " 1   Link         100 non-null    object \n",
      " 2   BGG_Rating   100 non-null    float64\n",
      " 3   AVG_Rating   100 non-null    float64\n",
      " 4   Voter_Count  100 non-null    float64\n",
      "dtypes: float64(3), object(2)\n",
      "memory usage: 4.0+ KB\n"
     ]
    }
   ],
   "source": [
    "#turning the dictionary into a df\n",
    "browse_df = pd.DataFrame.from_dict(browse_stats_dict)\n",
    "browse_df.info()"
   ]
  },
  {
   "cell_type": "code",
   "execution_count": 9,
   "metadata": {},
   "outputs": [
    {
     "data": {
      "text/html": [
       "<div>\n",
       "<style scoped>\n",
       "    .dataframe tbody tr th:only-of-type {\n",
       "        vertical-align: middle;\n",
       "    }\n",
       "\n",
       "    .dataframe tbody tr th {\n",
       "        vertical-align: top;\n",
       "    }\n",
       "\n",
       "    .dataframe thead th {\n",
       "        text-align: right;\n",
       "    }\n",
       "</style>\n",
       "<table border=\"1\" class=\"dataframe\">\n",
       "  <thead>\n",
       "    <tr style=\"text-align: right;\">\n",
       "      <th></th>\n",
       "      <th>Name</th>\n",
       "      <th>Link</th>\n",
       "      <th>BGG_Rating</th>\n",
       "      <th>AVG_Rating</th>\n",
       "      <th>Voter_Count</th>\n",
       "    </tr>\n",
       "  </thead>\n",
       "  <tbody>\n",
       "    <tr>\n",
       "      <th>0</th>\n",
       "      <td>Gloomhaven</td>\n",
       "      <td>/boardgame/174430/gloomhaven</td>\n",
       "      <td>8.572</td>\n",
       "      <td>8.83</td>\n",
       "      <td>36176.0</td>\n",
       "    </tr>\n",
       "    <tr>\n",
       "      <th>1</th>\n",
       "      <td>Pandemic Legacy: Season 1</td>\n",
       "      <td>/boardgame/161936/pandemic-legacy-season-1</td>\n",
       "      <td>8.472</td>\n",
       "      <td>8.62</td>\n",
       "      <td>37794.0</td>\n",
       "    </tr>\n",
       "    <tr>\n",
       "      <th>2</th>\n",
       "      <td>Brass: Birmingham</td>\n",
       "      <td>/boardgame/224517/brass-birmingham</td>\n",
       "      <td>8.291</td>\n",
       "      <td>8.64</td>\n",
       "      <td>13724.0</td>\n",
       "    </tr>\n",
       "    <tr>\n",
       "      <th>3</th>\n",
       "      <td>Terraforming Mars</td>\n",
       "      <td>/boardgame/167791/terraforming-mars</td>\n",
       "      <td>8.280</td>\n",
       "      <td>8.43</td>\n",
       "      <td>55986.0</td>\n",
       "    </tr>\n",
       "    <tr>\n",
       "      <th>4</th>\n",
       "      <td>Through the Ages: A New Story of Civilization</td>\n",
       "      <td>/boardgame/182028/through-ages-new-story-civil...</td>\n",
       "      <td>8.216</td>\n",
       "      <td>8.46</td>\n",
       "      <td>20626.0</td>\n",
       "    </tr>\n",
       "  </tbody>\n",
       "</table>\n",
       "</div>"
      ],
      "text/plain": [
       "                                            Name  \\\n",
       "0                                     Gloomhaven   \n",
       "1                      Pandemic Legacy: Season 1   \n",
       "2                              Brass: Birmingham   \n",
       "3                              Terraforming Mars   \n",
       "4  Through the Ages: A New Story of Civilization   \n",
       "\n",
       "                                                Link  BGG_Rating  AVG_Rating  \\\n",
       "0                       /boardgame/174430/gloomhaven       8.572        8.83   \n",
       "1         /boardgame/161936/pandemic-legacy-season-1       8.472        8.62   \n",
       "2                 /boardgame/224517/brass-birmingham       8.291        8.64   \n",
       "3                /boardgame/167791/terraforming-mars       8.280        8.43   \n",
       "4  /boardgame/182028/through-ages-new-story-civil...       8.216        8.46   \n",
       "\n",
       "   Voter_Count  \n",
       "0      36176.0  \n",
       "1      37794.0  \n",
       "2      13724.0  \n",
       "3      55986.0  \n",
       "4      20626.0  "
      ]
     },
     "execution_count": 9,
     "metadata": {},
     "output_type": "execute_result"
    }
   ],
   "source": [
    "browse_df.head()"
   ]
  },
  {
   "cell_type": "code",
   "execution_count": 10,
   "metadata": {},
   "outputs": [
    {
     "data": {
      "text/plain": [
       "Name                             Gloomhaven\n",
       "Link           /boardgame/174430/gloomhaven\n",
       "BGG_Rating                            8.572\n",
       "AVG_Rating                             8.83\n",
       "Voter_Count                           36176\n",
       "Name: 0, dtype: object"
      ]
     },
     "execution_count": 10,
     "metadata": {},
     "output_type": "execute_result"
    }
   ],
   "source": [
    "browse_df.iloc[0]"
   ]
  },
  {
   "cell_type": "markdown",
   "metadata": {},
   "source": [
    "# Scraping BGG - Part 2\n",
    "\n",
    "I picked a random board game's main page \"[Terraforming Mars](https://boardgamegeek.com/boardgame/167791/terraforming-mars/stats)\" (tm) and used str.find() and json.loads() to extract info. into a dictionary \"tm_stats\""
   ]
  },
  {
   "cell_type": "code",
   "execution_count": 11,
   "metadata": {},
   "outputs": [
    {
     "data": {
      "text/plain": [
       "200"
      ]
     },
     "execution_count": 11,
     "metadata": {},
     "output_type": "execute_result"
    }
   ],
   "source": [
    "# requests.get(link_string) asks to pull the html code\n",
    "# .status_code or the result itself returns permisions\n",
    "\n",
    "tm_link = 'https://boardgamegeek.com/boardgame/167791/terraforming-mars/stats'\n",
    "link_response = requests.get(tm_link)\n",
    "link_response.status_code"
   ]
  },
  {
   "cell_type": "code",
   "execution_count": 12,
   "metadata": {},
   "outputs": [
    {
     "data": {
      "text/plain": [
       "'\\n<!DOCTYPE html>\\n<html ng-app=\"GeekApp\" lang=\"en-US\" ng-cloak>\\n<head>\\n\\t<meta charset=\\'utf-8\\'>\\n\\t<meta'"
      ]
     },
     "execution_count": 12,
     "metadata": {},
     "output_type": "execute_result"
    }
   ],
   "source": [
    "# We'll save the html in a variable\n",
    "# .text returns the html (if permissions allow)\n",
    "tm_html = link_response.text\n",
    "tm_html[:100]"
   ]
  },
  {
   "cell_type": "code",
   "execution_count": 13,
   "metadata": {},
   "outputs": [],
   "source": [
    "# BeautifulSoup is like a search and return engine\n",
    "soup_tm = BeautifulSoup(tm_html, 'html5lib')"
   ]
  },
  {
   "cell_type": "code",
   "execution_count": 14,
   "metadata": {},
   "outputs": [
    {
     "data": {
      "text/plain": [
       "[]"
      ]
     },
     "execution_count": 14,
     "metadata": {},
     "output_type": "execute_result"
    }
   ],
   "source": [
    "soup_tm.find_all('div', class_='outline-item-title') # Not finding something that exists"
   ]
  },
  {
   "cell_type": "markdown",
   "metadata": {},
   "source": [
    "Should return something. I see it exits in the html, but soup cant find."
   ]
  },
  {
   "cell_type": "code",
   "execution_count": 38,
   "metadata": {},
   "outputs": [],
   "source": [
    "import json"
   ]
  },
  {
   "cell_type": "code",
   "execution_count": 47,
   "metadata": {},
   "outputs": [
    {
     "data": {
      "text/plain": [
       "{'usersrated': '55986',\n",
       " 'average': '8.42959',\n",
       " 'baverage': '8.28038',\n",
       " 'stddev': '1.37965',\n",
       " 'avgweight': '3.2358',\n",
       " 'numweights': '2248',\n",
       " 'numgeeklists': '6455',\n",
       " 'numtrading': '345',\n",
       " 'numwanting': '2090',\n",
       " 'numwish': '15901',\n",
       " 'numowned': '73824',\n",
       " 'numprevowned': '2294',\n",
       " 'numcomments': '8407',\n",
       " 'numwishlistcomments': '1561',\n",
       " 'numhasparts': '24',\n",
       " 'numwantparts': '9',\n",
       " 'views': '5249201',\n",
       " 'playmonth': '2020-07',\n",
       " 'numplays': '301378',\n",
       " 'numplays_month': '3065',\n",
       " 'numfans': 4855}"
      ]
     },
     "execution_count": 47,
     "metadata": {},
     "output_type": "execute_result"
    }
   ],
   "source": [
    "# finding the stats for game and putting into dictionary\n",
    "stats_idx = tm_html.find('\"stats\"')\n",
    "stats_end = tm_html[stats_idx:].find('}')\n",
    "stats_str = tm_html[stats_idx + 8 : stats_idx + stats_end + 1]\n",
    "stats_dict = json.loads(stats_str) \n",
    "stats_dict"
   ]
  },
  {
   "cell_type": "code",
   "execution_count": 49,
   "metadata": {},
   "outputs": [
    {
     "data": {
      "text/plain": [
       "{'avgweight': 3.2358, 'numowned': 73824.0, 'numplays': 301378.0}"
      ]
     },
     "execution_count": 49,
     "metadata": {},
     "output_type": "execute_result"
    }
   ],
   "source": [
    "#Extracting the important keys\n",
    "important_stats_keys = ['avgweight', 'numowned', 'numplays']\n",
    "stats = {key: stats_dict[key] for key in important_stats_keys}\n",
    "\n",
    "#changing the values to floats\n",
    "for key in stats:\n",
    "    stats[key] = float(stats[key])\n",
    "\n",
    "stats"
   ]
  },
  {
   "cell_type": "code",
   "execution_count": 41,
   "metadata": {},
   "outputs": [
    {
     "data": {
      "text/plain": [
       "{'minplayers': '1',\n",
       " 'maxplayers': '5',\n",
       " 'minplaytime': '120',\n",
       " 'maxplaytime': '120',\n",
       " 'minage': '12'}"
      ]
     },
     "execution_count": 41,
     "metadata": {},
     "output_type": "execute_result"
    }
   ],
   "source": [
    "# Same thing with the basic info\n",
    "info_idx = tm_html.find('\"minplayers\":')\n",
    "info_end = tm_html.find(',', tm_html.find('\"minage\":') )\n",
    "info_str = '{' + tm_html[info_idx:info_end] + '}'\n",
    "info = json.loads(info_str)\n",
    "info"
   ]
  },
  {
   "cell_type": "code",
   "execution_count": 51,
   "metadata": {},
   "outputs": [
    {
     "data": {
      "text/plain": [
       "{'minplayers': 1,\n",
       " 'maxplayers': 5,\n",
       " 'minplaytime': 120,\n",
       " 'maxplaytime': 120,\n",
       " 'minage': 12}"
      ]
     },
     "execution_count": 51,
     "metadata": {},
     "output_type": "execute_result"
    }
   ],
   "source": [
    "#changing the values to floats\n",
    "for key in info:\n",
    "    info[key] = int(info[key])\n",
    "\n",
    "info"
   ]
  },
  {
   "cell_type": "code",
   "execution_count": 52,
   "metadata": {},
   "outputs": [
    {
     "data": {
      "text/plain": [
       "{'minplayers': 1,\n",
       " 'maxplayers': 5,\n",
       " 'minplaytime': 120,\n",
       " 'maxplaytime': 120,\n",
       " 'minage': 12,\n",
       " 'avgweight': 3.2358,\n",
       " 'numowned': 73824.0,\n",
       " 'numplays': 301378.0}"
      ]
     },
     "execution_count": 52,
     "metadata": {},
     "output_type": "execute_result"
    }
   ],
   "source": [
    "# merges 2 dictionaries into 1\n",
    "tm_stats = {**info, **stats}\n",
    "tm_stats"
   ]
  },
  {
   "cell_type": "code",
   "execution_count": null,
   "metadata": {},
   "outputs": [],
   "source": []
  }
 ],
 "metadata": {
  "kernelspec": {
   "display_name": "Python [conda env:metis] *",
   "language": "python",
   "name": "conda-env-metis-py"
  },
  "language_info": {
   "codemirror_mode": {
    "name": "ipython",
    "version": 3
   },
   "file_extension": ".py",
   "mimetype": "text/x-python",
   "name": "python",
   "nbconvert_exporter": "python",
   "pygments_lexer": "ipython3",
   "version": "3.8.3"
  }
 },
 "nbformat": 4,
 "nbformat_minor": 4
}
